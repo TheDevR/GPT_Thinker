{
 "cells": [
  {
   "cell_type": "code",
   "execution_count": 2,
   "metadata": {},
   "outputs": [],
   "source": [
    "from openaiCall import openaiBot\n",
    "import json"
   ]
  },
  {
   "cell_type": "code",
   "execution_count": null,
   "metadata": {},
   "outputs": [
    {
     "name": "stdout",
     "output_type": "stream",
     "text": [
      "The sky appears blue due to Rayleigh scattering. When sunlight passes through the Earth's atmosphere, shorter blue wavelengths are scattered more than other colors, making the sky look blue to our eyes.\n"
     ]
    }
   ],
   "source": [
    "api_key = ''\n",
    "bot = openaiBot(api_key,job='answer question concisely',model='gpt-4o-mini')"
   ]
  },
  {
   "cell_type": "code",
   "execution_count": 8,
   "metadata": {},
   "outputs": [],
   "source": [
    "with open('testt.txt','a') as file:\n",
    "    file.write('t')\n",
    "filename = 'testt.txt'"
   ]
  },
  {
   "cell_type": "code",
   "execution_count": 6,
   "metadata": {},
   "outputs": [
    {
     "name": "stdout",
     "output_type": "stream",
     "text": [
      "0 A failed trump assassination attemp failed before 2024 election\n",
      "00 Increased security measures for political figures\n",
      "000 Heightened threat levels\n",
      "001 Increased scrutiny of potential threats\n",
      "002 Additional security personnel and resources allocated\n",
      "003 Enhanced surveillance and monitoring\n",
      "004 Restrictions on public appearances and travel\n",
      "005 Potential disruptions to daily routines and schedules\n",
      "01 Investigation into potential motives and conspirators\n",
      "010 Suspicion of foul play\n",
      "011 Questioning of individuals involved\n",
      "012 Consideration of hidden agendas\n",
      "013 Exploration of possible connections\n",
      "02 Heightened tensions and fear among the public\n",
      "020 Increased security measures\n",
      "021 Rise in discriminatory behavior\n",
      "022 Possible increase in hate crimes\n",
      "023 Disruption of daily life and routines\n",
      "024 Impact on mental health and well-being of individuals\n",
      "03 Reevaluation of current security protocols\n",
      "030 Increased focus on improving security measures\n",
      "031 Implementation of more advanced security technology\n",
      "032 Review and update of existing security policies\n",
      "033 Training of personnel on new security protocols\n",
      "034 Allocation of resources for upgrading security systems\n",
      "04 Media scrutiny and coverage of the incident\n",
      "040 Public awareness and attention increased\n",
      "041 Speculation and rumors may spread\n",
      "042 Impact on reputation of individuals or organizations involved\n",
      "043 Pressure for a thorough investigation\n",
      "044 Calls for accountability and transparency\n",
      "045 Potential legal ramifications or consequences\n",
      "046 Opinions and debates in the public sphere\n",
      "05 Calls for stricter gun control laws\n",
      "050 Increased regulation of the sale and possession of firearms\n",
      "051 Possible limitations on types of firearms that can be owned\n",
      "052 Potential background checks on individuals purchasing guns\n",
      "053 Tighter restrictions on where firearms can be carried or stored\n",
      "06 Political backlash and accusations of inciting violence\n",
      "060 Calls for increased regulation\n",
      "061 Loss of public support\n",
      "062 Increased scrutiny from the media\n",
      "063 Potential legal consequences\n",
      "064 Damage to reputation\n",
      "None\n"
     ]
    }
   ],
   "source": [
    "filename = 'testt.txt'\n",
    "thinker = openaiBot(api_key, job='given a fact, create a list named \"l\" in json object that contains at most 4 concrete things that the fact likely cause or imply',stateless=True,jsonMode=True)\n",
    "def re(fact,r,z):\n",
    "    if r == 0:\n",
    "        return\n",
    "    print(z,fact)\n",
    "    res = thinker.chat(fact)\n",
    "    l = res['l']\n",
    "    for i in range(len(l)):\n",
    "        re(l[i],r-1,z+str(i))\n",
    "print(re('A failed trump assassination attemp failed before 2024 election',3,'0'))\n"
   ]
  },
  {
   "cell_type": "code",
   "execution_count": 9,
   "metadata": {},
   "outputs": [
    {
     "name": "stdout",
     "output_type": "stream",
     "text": [
      "\n",
      "1. Increased security measures for political figures.\n",
      "2. Possible rise in political tensions and polarization.\n",
      "3. More extensive investigations into extremist groups.\n",
      "4. Potential shifts in voter sentiment or mobilization.\n",
      "5. Possible impact on Trump’s campaign strategy and messaging.\n",
      "\n",
      "6. Heightened media scrutiny of Trump's events.\n",
      "7. Increased contributions to security firms and consultants.\n",
      "8. Possible changes in election laws concerning candidate safety.\n",
      "9. Greater public discourse on political violence.\n",
      "10. Amplified calls for bipartisanship or reform in response to violence.\n",
      "\n",
      "1. Heightened awareness of threats against public figures.\n",
      "2. Surge in protective services and private security hiring.\n",
      "3. Rise in mental health initiatives addressing political violence.\n",
      "4. Intensified political fundraising activities.\n",
      "5. Increased scrutiny of rhetoric from political leaders.\n",
      "6. Possible emergence of new extremist watchdog organizations.\n",
      "7. Potential influence on key swing states.\n",
      "8. Shifts in media narrative surrounding election integrity.\n",
      "9. Greater engagement in grassroots political movements.\n",
      "10. Possible introduction of new security technology at events.\n",
      "None\n"
     ]
    }
   ],
   "source": [
    "filename = 'testt.txt'\n",
    "thinker = openaiBot(api_key, job='given a set of facts, list several concrete things that can be inferred or predicted from those facts, think board aspects, and be extremely concise',stateless=True,model='gpt-4o-mini')\n",
    "\n",
    "def re(fact,r):\n",
    "    if r == 0:\n",
    "        return\n",
    "    res = thinker.chat(fact)\n",
    "    print()\n",
    "    print(res)\n",
    "    # re(res,r-1)\n",
    "    re(fact + '\\n' + res,r-1)\n",
    "    \n",
    "print(re('A failed trump assassination attemp failed before 2024 election',3))\n",
    "\n",
    "    \n"
   ]
  },
  {
   "cell_type": "code",
   "execution_count": 10,
   "metadata": {},
   "outputs": [
    {
     "name": "stdout",
     "output_type": "stream",
     "text": [
      "A failed trump assassination attempt failed before 2024 election\n",
      "Increased security measures for political figures\n",
      "Potential rise in political tensions and extremist activities\n",
      "Heightened media coverage and public interest in assassination threats\n",
      "Increased scrutiny of organizations and individuals with extremist views\n",
      "Heightened public anxiety regarding safety\n",
      "Increased funding for security personnel and technology\n",
      "Potential changes in the way political events are organized\n",
      "Greater scrutiny of individuals attending political functions\n",
      "Increased protests and demonstrations\n",
      "Surge in hate crimes or targeted violence\n",
      "Greater scrutiny and regulation of political speech\n",
      "Polarization of public opinion and discourse\n",
      "Increased security measures for public figures and politicians\n",
      "Greater public awareness and discussions about political violence\n",
      "Potential for more stringent laws regarding threats and hate speech\n",
      "Rise in conspiracy theories and misinformation around political events\n",
      "Implementation of stricter policies on hate speech\n",
      "Increased funding for monitoring extremist groups\n",
      "Heightened security measures at public events\n",
      "Greater public awareness campaigns about extremism\n",
      "Increased demand for security services and personnel\n",
      "Rise in community watch programs and neighborhood initiatives\n",
      "Growth in the sales of personal safety devices, such as pepper spray or alarms\n",
      "Stricter regulations and policies aimed at public safety in public spaces\n",
      "Enhanced protection for public spaces and infrastructure\n",
      "Improved response times to security incidents\n",
      "Increased surveillance capabilities through technology\n",
      "Greater job opportunities in the security sector\n",
      "Increased use of digital platforms for organizing events\n",
      "Shift towards more inclusive and participatory formats\n",
      "Greater emphasis on real-time engagement and feedback from attendees\n",
      "Implementation of hybrid event models combining in-person and virtual attendance\n",
      "Increased security measures at political events\n",
      "More detailed background checks for attendees\n",
      "Potential for reduced attendance at political functions due to fear of scrutiny\n",
      "Heightened public awareness and discussion about political event safety\n",
      "Greater public dissatisfaction with government policies\n",
      "Heightened activism among grassroots organizations\n",
      "Increased media coverage of social and political issues\n",
      "Potential changes in legislation or policy as a response\n",
      "Increased fear among marginalized communities\n",
      "Heightened security measures in public spaces\n",
      "Calls for policy changes and legal protections\n",
      "Increased community activism and awareness campaigns\n",
      "Increased compliance requirements for political organizations\n",
      "Potential legal challenges related to political advertising\n",
      "Shifts in fundraising strategies for political campaigns\n"
     ]
    },
   ],
   "source": [
    "from collections import deque\n",
    "\n",
    "filename = 'testt.txt'\n",
    "thinker = openaiBot(api_key, job='given a fact, create a list named \"l\" in json object that contains at most 4 concrete things that the fact likely cause or imply', stateless=True, jsonMode=True,model='gpt-4o-mini')\n",
    "\n",
    "def bfs(fact, max_depth):\n",
    "    queue = deque([(fact, 0)])\n",
    "    while queue:\n",
    "        current_fact, depth = queue.popleft()\n",
    "        if depth < max_depth:\n",
    "            print(current_fact)\n",
    "            res = thinker.chat(current_fact)\n",
    "            l = res['l']\n",
    "            for item in l:\n",
    "                queue.append((item, depth + 1))\n",
    "\n",
    "print(bfs('A failed trump assassination attempt failed before 2024 election', 4))"
   ]
  }
 ],
 "metadata": {
  "kernelspec": {
   "display_name": "Python 3",
   "language": "python",
   "name": "python3"
  },
  "language_info": {
   "codemirror_mode": {
    "name": "ipython",
    "version": 3
   },
   "file_extension": ".py",
   "mimetype": "text/x-python",
   "name": "python",
   "nbconvert_exporter": "python",
   "pygments_lexer": "ipython3",
   "version": "3.11.6"
  }
 },
 "nbformat": 4,
 "nbformat_minor": 2
}
