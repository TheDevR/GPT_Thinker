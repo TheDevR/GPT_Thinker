{
 "cells": [
  {
   "cell_type": "code",
   "execution_count": 2,
   "metadata": {},
   "outputs": [],
   "source": [
    "from openaiCall import openaiBot\n",
    "import json"
   ]
  },
  {
   "cell_type": "code",
   "execution_count": null,
   "metadata": {},
   "outputs": [],
   "source": [
    "api_key = ''\n",
    "bot = openaiBot(api_key,job='answer question concisely',model='gpt-4o-mini')"
   ]
  },
  {
   "cell_type": "code",
   "execution_count": 8,
   "metadata": {},
   "outputs": [],
   "source": [
    "with open('testt.txt','a') as file:\n",
    "    file.write('t')\n",
    "filename = 'testt.txt'"
   ]
  },
  {
   "cell_type": "code",
   "execution_count": null,
   "metadata": {},
   "outputs": [],
   "source": [
    "filename = 'testt.txt'\n",
    "thinker = openaiBot(api_key, job='given a fact, create a list named \"l\" in json object that contains at most 4 concrete things that the fact likely cause or imply',stateless=True,jsonMode=True)\n",
    "def re(fact,r,z):\n",
    "    if r == 0:\n",
    "        return\n",
    "    print(z,fact)\n",
    "    res = thinker.chat(fact)\n",
    "    l = res['l']\n",
    "    for i in range(len(l)):\n",
    "        re(l[i],r-1,z+str(i))\n",
    "print(re('A failed trump assassination attemp failed before 2024 election',3,'0'))\n"
   ]
  },
  {
   "cell_type": "code",
   "execution_count": null,
   "metadata": {},
   "outputs": [],
   "source": [
    "filename = 'testt.txt'\n",
    "thinker = openaiBot(api_key, job='given a set of facts, list several concrete things that can be inferred or predicted from those facts, think board aspects, and be extremely concise',stateless=True,model='gpt-4o-mini')\n",
    "\n",
    "def re(fact,r):\n",
    "    if r == 0:\n",
    "        return\n",
    "    res = thinker.chat(fact)\n",
    "    print()\n",
    "    print(res)\n",
    "    # re(res,r-1)\n",
    "    re(fact + '\\n' + res,r-1)\n",
    "    \n",
    "print(re('A failed trump assassination attemp failed before 2024 election',3))\n",
    "\n",
    "    \n"
   ]
  },
  {
   "cell_type": "code",
   "execution_count": null,
   "metadata": {},
   "outputs": [],
   "source": [
    "from collections import deque\n",
    "\n",
    "filename = 'testt.txt'\n",
    "thinker = openaiBot(api_key, job='given a fact, create a list named \"l\" in json object that contains at most 4 concrete things that the fact likely cause or imply', stateless=True, jsonMode=True,model='gpt-4o-mini')\n",
    "\n",
    "def bfs(fact, max_depth):\n",
    "    queue = deque([(fact, 0)])\n",
    "    while queue:\n",
    "        current_fact, depth = queue.popleft()\n",
    "        if depth < max_depth:\n",
    "            print(current_fact)\n",
    "            res = thinker.chat(current_fact)\n",
    "            l = res['l']\n",
    "            for item in l:\n",
    "                queue.append((item, depth + 1))\n",
    "\n",
    "print(bfs('A failed trump assassination attempt failed before 2024 election', 4))"
   ]
  }
 ],
 "metadata": {
  "kernelspec": {
   "display_name": "Python 3",
   "language": "python",
   "name": "python3"
  },
  "language_info": {
   "codemirror_mode": {
    "name": "ipython",
    "version": 3
   },
   "file_extension": ".py",
   "mimetype": "text/x-python",
   "name": "python",
   "nbconvert_exporter": "python",
   "pygments_lexer": "ipython3",
   "version": "3.11.6"
  }
 },
 "nbformat": 4,
 "nbformat_minor": 2
}
